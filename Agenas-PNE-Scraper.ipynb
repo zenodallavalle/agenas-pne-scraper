{
 "cells": [
  {
   "cell_type": "code",
   "execution_count": 1,
   "metadata": {},
   "outputs": [
    {
     "name": "stdout",
     "output_type": "stream",
     "text": [
      "INFO: Pandarallel will run on 10 workers.\n",
      "INFO: Pandarallel will use standard multiprocessing data transfer (pipe) to transfer data between the main process and workers.\n"
     ]
    }
   ],
   "source": [
    "import pandas as pd\n",
    "import sys\n",
    "import pandarallel\n",
    "if sys.platform == 'darwin':\n",
    "    pandarallel.core.CONTEXT = pandarallel.core.multiprocessing.get_context('spawn')\n",
    "# see https://github.com/nalepae/pandarallel/issues/225\n",
    "pandarallel.pandarallel.initialize(progress_bar=True)\n",
    "\n",
    "import agenas_pne_scraper"
   ]
  },
  {
   "cell_type": "code",
   "execution_count": 2,
   "metadata": {},
   "outputs": [
    {
     "name": "stdout",
     "output_type": "stream",
     "text": [
      "agenas-pne-scraper version: 0.1.0\n"
     ]
    }
   ],
   "source": [
    "print (f'agenas-pne-scraper version: {agenas_pne_scraper.__version__}')"
   ]
  },
  {
   "cell_type": "code",
   "execution_count": null,
   "metadata": {},
   "outputs": [],
   "source": [
    "YEAR = 2021"
   ]
  },
  {
   "cell_type": "code",
   "execution_count": null,
   "metadata": {},
   "outputs": [],
   "source": [
    "hospitals_df = agenas_pne_scraper.get_hospital_id_hospital_name_hospitals_df()\n",
    "\n",
    "hospital_code_legend = hospitals_df.set_index('hospital_id').hospital_name"
   ]
  },
  {
   "attachments": {},
   "cell_type": "markdown",
   "metadata": {},
   "source": [
    "### Volume indicators\n",
    "Table\n",
    "- `strutture/stru_frequenza.php` + `cod_struttura` as querystring\n",
    "\n",
    "Graph with historical data\n",
    "- `strutture/grafico1Str5_HC.php` + `cod_struttura` and `ind` as querystring\n",
    "\n",
    "### Outcome indicators\n",
    "Table\n",
    "- `strutture/stru_indicatori.php` + `cod_struttura` and `conf[\"reg\", \"prec\"]` as querystring. Conf stands for _confronto_, which means compare in italian; \"reg\" stands for regional mean, \"prec\" for precedent year.\n",
    "\n",
    "\n",
    "Graphs\n",
    "\n",
    "### Waiting time indicators\n",
    "Table\n",
    "-`strutture/stru_tempi.php` + `cod_struttura` as querystring\n",
    "\n",
    "Graphs\n"
   ]
  },
  {
   "attachments": {},
   "cell_type": "markdown",
   "metadata": {},
   "source": [
    "### Volume indicators"
   ]
  },
  {
   "cell_type": "code",
   "execution_count": null,
   "metadata": {},
   "outputs": [],
   "source": [
    "volume_indicators = pd.concat(\n",
    "    hospital_code_legend.index.to_series().parallel_map(agenas_pne_scraper.PNEVolumeIndicatorsDownloader.generate_pandas_mapper(year=YEAR)).to_list(),\n",
    "    axis=0,\n",
    "    ignore_index=True\n",
    "    )\n",
    "volume_indicators"
   ]
  },
  {
   "attachments": {},
   "cell_type": "markdown",
   "metadata": {},
   "source": [
    "### Outcome indicators"
   ]
  },
  {
   "cell_type": "code",
   "execution_count": null,
   "metadata": {},
   "outputs": [],
   "source": [
    "outcome_indicators = pd.concat(\n",
    "    hospital_code_legend.index.to_series().parallel_map(agenas_pne_scraper.PNEOutcomeIndicatorsDownloader.generate_pandas_mapper(year=YEAR, compare='both')).to_list(),\n",
    "    axis=0,\n",
    "    ignore_index=True\n",
    "    )\n",
    "outcome_indicators"
   ]
  },
  {
   "attachments": {},
   "cell_type": "markdown",
   "metadata": {},
   "source": [
    "### Waiting Time indicators"
   ]
  },
  {
   "cell_type": "code",
   "execution_count": null,
   "metadata": {},
   "outputs": [],
   "source": [
    "wt_indicators = pd.concat(\n",
    "    hospital_code_legend.index.to_series().parallel_map(agenas_pne_scraper.PNEWaitingTimeIndicatorsDownloader.generate_pandas_mapper(year=YEAR)).to_list(),\n",
    "    axis=0,\n",
    "    ignore_index=True\n",
    "    )\n",
    "wt_indicators"
   ]
  },
  {
   "attachments": {},
   "cell_type": "markdown",
   "metadata": {},
   "source": [
    "### Graphs"
   ]
  },
  {
   "cell_type": "code",
   "execution_count": null,
   "metadata": {},
   "outputs": [],
   "source": [
    "outcome_graphs_indicators = pd.concat(\n",
    "    outcome_indicators[['hospital_code', 'indicator_id']].drop_duplicates().dropna(how='any').parallel_apply(agenas_pne_scraper.PNEOutcomeGraphsDownloader.generate_pandas_mapper(), axis=1).to_list(),\n",
    "    axis=0,\n",
    "    ignore_index=True\n",
    "    )\n",
    "outcome_graphs_indicators"
   ]
  },
  {
   "cell_type": "code",
   "execution_count": null,
   "metadata": {},
   "outputs": [],
   "source": [
    "volume_graphs_indicators = pd.concat(\n",
    "    volume_indicators[['hospital_code', 'indicator_id']].drop_duplicates().dropna(how='any').parallel_apply(agenas_pne_scraper.PNEVolumeGraphsDownloader.generate_pandas_mapper(), axis=1).to_list(),\n",
    "    axis=0,\n",
    "    ignore_index=True\n",
    "    )\n",
    "volume_graphs_indicators"
   ]
  },
  {
   "cell_type": "code",
   "execution_count": null,
   "metadata": {},
   "outputs": [],
   "source": [
    "wt_graphs_indicators = pd.concat(\n",
    "    wt_indicators[['hospital_code', 'indicator_id']].drop_duplicates().dropna(how='any').parallel_apply(agenas_pne_scraper.PNEWaitingTimeGraphsDownloader.generate_pandas_mapper(), axis=1).to_list(),\n",
    "    axis=0,\n",
    "    ignore_index=True\n",
    "    )\n",
    "wt_graphs_indicators"
   ]
  },
  {
   "attachments": {},
   "cell_type": "markdown",
   "metadata": {},
   "source": [
    "### Merge indicator dfs"
   ]
  },
  {
   "cell_type": "code",
   "execution_count": null,
   "metadata": {},
   "outputs": [],
   "source": [
    "# Rename columns for merging\n",
    "outcome_indicators = outcome_indicators.rename(columns={'cases':'value'})\n",
    "wt_indicators = wt_indicators.rename(columns={'cases':'value'})\n",
    "df = pd.concat([volume_indicators, outcome_indicators, wt_indicators], axis=0)\n",
    "df.to_csv(f'./PNE_{YEAR}.csv', index=False)"
   ]
  },
  {
   "cell_type": "code",
   "execution_count": null,
   "metadata": {},
   "outputs": [],
   "source": [
    "df = pd.concat([volume_graphs_indicators, outcome_graphs_indicators, wt_graphs_indicators], axis=0)\n",
    "df.to_csv('./PNE_historical.csv', index=False)"
   ]
  },
  {
   "cell_type": "code",
   "execution_count": null,
   "metadata": {},
   "outputs": [],
   "source": []
  }
 ],
 "metadata": {
  "kernelspec": {
   "display_name": "env",
   "language": "python",
   "name": "python3"
  },
  "language_info": {
   "codemirror_mode": {
    "name": "ipython",
    "version": 3
   },
   "file_extension": ".py",
   "mimetype": "text/x-python",
   "name": "python",
   "nbconvert_exporter": "python",
   "pygments_lexer": "ipython3",
   "version": "3.10.9"
  },
  "orig_nbformat": 4,
  "vscode": {
   "interpreter": {
    "hash": "9ea650c29dd92e3647ec321cd67e2e3e8e8fc12f24ed6eec0558bf4cf642b292"
   }
  }
 },
 "nbformat": 4,
 "nbformat_minor": 2
}
